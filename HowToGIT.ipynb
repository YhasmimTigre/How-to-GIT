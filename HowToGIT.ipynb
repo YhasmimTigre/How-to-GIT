{
 "cells": [
  {
   "attachments": {},
   "cell_type": "markdown",
   "metadata": {},
   "source": [
    "# Tutorial Yhasmim de como tentar entender GIT"
   ]
  },
  {
   "attachments": {},
   "cell_type": "markdown",
   "metadata": {},
   "source": [
    "## Como inicializar uma pasta - GIT CLONE"
   ]
  },
  {
   "attachments": {},
   "cell_type": "markdown",
   "metadata": {},
   "source": [
    "git init #inicializa repositorio git<br>\n",
    "git clone https://..."
   ]
  },
  {
   "attachments": {},
   "cell_type": "markdown",
   "metadata": {},
   "source": [
    "## Como mudar nome de Branch master para main"
   ]
  },
  {
   "attachments": {},
   "cell_type": "markdown",
   "metadata": {},
   "source": [
    "git branch -m master main"
   ]
  },
  {
   "attachments": {},
   "cell_type": "markdown",
   "metadata": {},
   "source": [
    "## Como adicionar arquivos "
   ]
  },
  {
   "attachments": {},
   "cell_type": "markdown",
   "metadata": {},
   "source": [
    "git add .      #o ponto adiciona TODOS os arquivos <br>\n",
    "git add \"meu_codigo.txt\"       #adiciona o arquvivo descrito"
   ]
  },
  {
   "attachments": {},
   "cell_type": "markdown",
   "metadata": {},
   "source": [
    "## Como fazer commit"
   ]
  },
  {
   "attachments": {},
   "cell_type": "markdown",
   "metadata": {},
   "source": [
    "git commit -m \"update de taltaltal\" #nomear atividade que fez nesse dia"
   ]
  },
  {
   "attachments": {},
   "cell_type": "markdown",
   "metadata": {},
   "source": [
    "## Como conectar o site ao codigo do seu computador"
   ]
  },
  {
   "attachments": {},
   "cell_type": "markdown",
   "metadata": {},
   "source": [
    "git remote add origin https://github.com/..."
   ]
  },
  {
   "attachments": {},
   "cell_type": "markdown",
   "metadata": {},
   "source": [
    "## Como fazer PUSH"
   ]
  },
  {
   "attachments": {},
   "cell_type": "markdown",
   "metadata": {},
   "source": [
    "git push origin main #main sendo a branch remota"
   ]
  },
  {
   "attachments": {},
   "cell_type": "markdown",
   "metadata": {},
   "source": [
    "## Como fazer PULL"
   ]
  },
  {
   "attachments": {},
   "cell_type": "markdown",
   "metadata": {},
   "source": [
    "git pull origin main"
   ]
  },
  {
   "attachments": {},
   "cell_type": "markdown",
   "metadata": {},
   "source": [
    "## Criando nova branch"
   ]
  },
  {
   "attachments": {},
   "cell_type": "markdown",
   "metadata": {},
   "source": [
    "git checkout -b MinhaNovaBrach<br>\n",
    "git commit -m 'Comentario do commit da minha nova branch' #Depois, quando quiser subir a branch, faca o commit<br>\n",
    "git push --set-upstream origin MinhaNovaBrach #subir a branch"
   ]
  },
  {
   "attachments": {},
   "cell_type": "markdown",
   "metadata": {},
   "source": [
    "# Lista de Branchs"
   ]
  },
  {
   "attachments": {},
   "cell_type": "markdown",
   "metadata": {},
   "source": [
    "git branch --list"
   ]
  },
  {
   "attachments": {},
   "cell_type": "markdown",
   "metadata": {},
   "source": [
    "## PROBLEMA: \"main and master are entirely different commit histories.\""
   ]
  },
  {
   "attachments": {},
   "cell_type": "markdown",
   "metadata": {},
   "source": [
    "git checkout master   <br>\n",
    "git branch main master -f    <br>\n",
    "git checkout main  <br>\n",
    "git push origin main -f  <br>"
   ]
  },
  {
   "attachments": {},
   "cell_type": "markdown",
   "metadata": {},
   "source": [
    "## PROBLEMA: LF will be replaced by CRLF"
   ]
  },
  {
   "attachments": {},
   "cell_type": "markdown",
   "metadata": {},
   "source": [
    "git config --global core.autocrlf true #true para windows, input para mac e linux"
   ]
  },
  {
   "attachments": {},
   "cell_type": "markdown",
   "metadata": {},
   "source": [
    "teste"
   ]
  },
  {
   "attachments": {},
   "cell_type": "markdown",
   "metadata": {},
   "source": [
    "## Como ver o historico de commits?"
   ]
  },
  {
   "attachments": {},
   "cell_type": "markdown",
   "metadata": {},
   "source": [
    "git log <br>\n",
    "git log -p #mostra as diferenças introduzidas em cada commit <br>\n",
    "git log -p -2 #mostra os dois ultimos itens introduzidos <br>\n",
    "git log --stat #mostra estatisticas sobre os commits <br>\n",
    "git log --pretty=oneline #mostra os commits em uma unica linha <br>\n",
    "git log --pretty=format:\"%h - %an, %ar : %s\" #mostra os commits em um formato personalizado <br>"
   ]
  },
  {
   "attachments": {},
   "cell_type": "markdown",
   "metadata": {},
   "source": [
    "## Como desfazer uma alteração (undo all uncommited)"
   ]
  },
  {
   "attachments": {},
   "cell_type": "markdown",
   "metadata": {},
   "source": [
    "#Nessa ordem:<br>\n",
    "git reset <br>\n",
    "git checkout .<br> \n",
    "git clean -fdx <br>"
   ]
  }
 ],
 "metadata": {
  "language_info": {
   "name": "python"
  },
  "orig_nbformat": 4
 },
 "nbformat": 4,
 "nbformat_minor": 2
}
