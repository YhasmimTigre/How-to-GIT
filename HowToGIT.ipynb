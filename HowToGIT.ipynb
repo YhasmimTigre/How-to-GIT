{
 "cells": [
  {
   "cell_type": "markdown",
   "metadata": {},
   "source": [
    "# Tutorial Yhasmim de como tentar entender GIT"
   ]
  },
  {
   "cell_type": "markdown",
   "metadata": {},
   "source": [
    "## Como adicionar arquivos "
   ]
  },
  {
   "cell_type": "markdown",
   "metadata": {},
   "source": [
    "git add .      #o ponto adiciona TODOS os arquivos\n",
    "\n",
    "git add \"meu_codigo.txt\"       #adiciona o arquvivo descrito"
   ]
  },
  {
   "cell_type": "markdown",
   "metadata": {},
   "source": [
    "## Como conectar o site ao codigo do seu computador"
   ]
  },
  {
   "cell_type": "markdown",
   "metadata": {},
   "source": [
    "git remote add origin https://github.com/..."
   ]
  }
 ],
 "metadata": {
  "language_info": {
   "name": "python"
  },
  "orig_nbformat": 4
 },
 "nbformat": 4,
 "nbformat_minor": 2
}
