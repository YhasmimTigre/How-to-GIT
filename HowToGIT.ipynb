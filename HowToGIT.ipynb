{
 "cells": [
  {
   "cell_type": "markdown",
   "metadata": {},
   "source": [
    "# Tutorial Yhasmim de como tentar entender GIT"
   ]
  },
  {
   "cell_type": "markdown",
   "metadata": {},
   "source": [
    "## Como inicializar uma pasta - GIT CLONE"
   ]
  },
  {
   "cell_type": "markdown",
   "metadata": {},
   "source": [
    "git init #inicializa repositorio git<br>\n",
    "git clone https://..."
   ]
  },
  {
   "cell_type": "markdown",
   "metadata": {},
   "source": [
    "## Como mudar nome de Branch master para main"
   ]
  },
  {
   "cell_type": "markdown",
   "metadata": {},
   "source": [
    "git branch -m master main"
   ]
  },
  {
   "cell_type": "markdown",
   "metadata": {},
   "source": [
    "## Como adicionar arquivos "
   ]
  },
  {
   "cell_type": "markdown",
   "metadata": {},
   "source": [
    "git add .      #o ponto adiciona TODOS os arquivos <br>\n",
    "git add \"meu_codigo.txt\"       #adiciona o arquvivo descrito"
   ]
  },
  {
   "cell_type": "markdown",
   "metadata": {},
   "source": [
    "## Como fazer commit"
   ]
  },
  {
   "cell_type": "markdown",
   "metadata": {},
   "source": [
    "git commit -m \"update de taltaltal\" #nomear atividade que fez nesse dia"
   ]
  },
  {
   "cell_type": "markdown",
   "metadata": {},
   "source": [
    "## Como conectar o site ao codigo do seu computador"
   ]
  },
  {
   "cell_type": "markdown",
   "metadata": {},
   "source": [
    "git remote add origin https://github.com/..."
   ]
  },
  {
   "cell_type": "markdown",
   "metadata": {},
   "source": [
    "## Como fazer PUSH"
   ]
  },
  {
   "cell_type": "markdown",
   "metadata": {},
   "source": [
    "git push origin main #main sendo a branch remota"
   ]
  },
  {
   "cell_type": "markdown",
   "metadata": {},
   "source": [
    "## Como fazer PULL"
   ]
  },
  {
   "cell_type": "markdown",
   "metadata": {},
   "source": [
    "git pull origin main"
   ]
  },
  {
   "cell_type": "markdown",
   "metadata": {},
   "source": [
    "## Criando nova branch"
   ]
  },
  {
   "cell_type": "markdown",
   "metadata": {},
   "source": [
    "git checkout -b MinhaNovaBrach<br>\n",
    "git commit -m 'Comentario do commit da minha nova branch' #Depois, quando quiser subir a branch, faca o commit<br>\n",
    "git push --set-upstream origin MinhaNovaBrach #subir a branch"
   ]
  },
  {
   "cell_type": "markdown",
   "metadata": {},
   "source": [
    "# Lista de Branchs"
   ]
  },
  {
   "cell_type": "markdown",
   "metadata": {},
   "source": [
    "git branch --list"
   ]
  },
  {
   "cell_type": "markdown",
   "metadata": {},
   "source": [
    "## PROBLEMA: \"main and master are entirely different commit histories.\""
   ]
  },
  {
   "cell_type": "markdown",
   "metadata": {},
   "source": [
    "git checkout master   <br>\n",
    "git branch main master -f    <br>\n",
    "git checkout main  <br>\n",
    "git push origin main -f  <br>"
   ]
  },
  {
   "cell_type": "markdown",
   "metadata": {},
   "source": [
    "## PROBLEMA: LF will be replaced by CRLF"
   ]
  },
  {
   "cell_type": "markdown",
   "metadata": {},
   "source": [
    "git config --global core.autocrlf true #true para windows, input para mac e linux"
   ]
  },
  {
   "cell_type": "markdown",
   "metadata": {},
   "source": [
    "teste"
   ]
  },
  {
   "cell_type": "markdown",
   "metadata": {},
   "source": [
    "## Como ver o historico de commits?"
   ]
  },
  {
   "cell_type": "markdown",
   "metadata": {},
   "source": [
    "git log <br>\n",
    "git log -p #mostra as diferenças introduzidas em cada commit <br>\n",
    "git log -p -2 #mostra os dois ultimos itens introduzidos <br>\n",
    "git log --stat #mostra estatisticas sobre os commits <br>\n",
    "git log --pretty=oneline #mostra os commits em uma unica linha <br>\n",
    "git log --pretty=format:"%h - %an, %ar : %s" <br>"
   ]
  },
  {
   "cell_type": "markdown",
   "metadata": {},
   "source": [
    "## Como desfazer uma alteração (undo all uncommited)"
   ]
  },
  {
   "cell_type": "markdown",
   "metadata": {},
   "source": [
    "#Nessa ordem:<br>\n",
    "git reset <br>\n",
    "git checkout .<br> \n",
    "git clean -fdx <br>"
   ]
  }
 ],
 "metadata": {
  "language_info": {
   "name": "python"
  },
  "orig_nbformat": 4
 },
 "nbformat": 4,
 "nbformat_minor": 2
}
